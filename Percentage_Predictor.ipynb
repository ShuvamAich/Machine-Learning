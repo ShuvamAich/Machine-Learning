{
  "nbformat": 4,
  "nbformat_minor": 0,
  "metadata": {
    "colab": {
      "name": "Percentage Predictor.ipynb",
      "provenance": [],
      "authorship_tag": "ABX9TyP5OdEfySljXRLLm2WIefGn",
      "include_colab_link": true
    },
    "kernelspec": {
      "name": "python3",
      "display_name": "Python 3"
    }
  },
  "cells": [
    {
      "cell_type": "markdown",
      "metadata": {
        "id": "view-in-github",
        "colab_type": "text"
      },
      "source": [
        "<a href=\"https://colab.research.google.com/github/ShuvamAich/Machine-Learning/blob/main/Percentage_Predictor.ipynb\" target=\"_parent\"><img src=\"https://colab.research.google.com/assets/colab-badge.svg\" alt=\"Open In Colab\"/></a>"
      ]
    },
    {
      "cell_type": "markdown",
      "metadata": {
        "id": "cqfQu_a7rYBI"
      },
      "source": [
        "# **The Spark Foundation**\r\n",
        "##Data Science and Business Analytics Internship\r\n",
        "Task 1: To predict the percentage of marks of a student based on the number of study hours\r\n",
        "\r\n",
        "**Author: Shuvam Aich**"
      ]
    },
    {
      "cell_type": "code",
      "metadata": {
        "id": "RXaCDRyZsCPi"
      },
      "source": [
        "#importing the required libraries\r\n",
        "\r\n",
        "import pandas as pd\r\n",
        "import numpy as np\r\n",
        "import matplotlib.pyplot as plt\r\n",
        "%matplotlib inline"
      ],
      "execution_count": 2,
      "outputs": []
    },
    {
      "cell_type": "code",
      "metadata": {
        "colab": {
          "base_uri": "https://localhost:8080/"
        },
        "id": "2pimhrjSsrGb",
        "outputId": "afd23c1b-9515-4e5c-fc72-111c83bc9752"
      },
      "source": [
        "#importing the dataset\r\n",
        "!wget \"https://raw.githubusercontent.com/AdiPersonalWorks/Random/master/student_scores%20-%20student_scores.csv\""
      ],
      "execution_count": 3,
      "outputs": [
        {
          "output_type": "stream",
          "text": [
            "--2021-01-06 17:17:02--  https://raw.githubusercontent.com/AdiPersonalWorks/Random/master/student_scores%20-%20student_scores.csv\n",
            "Resolving raw.githubusercontent.com (raw.githubusercontent.com)... 151.101.0.133, 151.101.64.133, 151.101.128.133, ...\n",
            "Connecting to raw.githubusercontent.com (raw.githubusercontent.com)|151.101.0.133|:443... connected.\n",
            "HTTP request sent, awaiting response... 200 OK\n",
            "Length: 212 [text/plain]\n",
            "Saving to: ‘student_scores - student_scores.csv.1’\n",
            "\n",
            "\r          student_s   0%[                    ]       0  --.-KB/s               \rstudent_scores - st 100%[===================>]     212  --.-KB/s    in 0s      \n",
            "\n",
            "2021-01-06 17:17:02 (10.6 MB/s) - ‘student_scores - student_scores.csv.1’ saved [212/212]\n",
            "\n"
          ],
          "name": "stdout"
        }
      ]
    },
    {
      "cell_type": "code",
      "metadata": {
        "id": "N_KyOPzos1n3"
      },
      "source": [
        "#reading the dataset\r\n",
        "df=pd.read_csv(\"student_scores - student_scores.csv\")"
      ],
      "execution_count": 5,
      "outputs": []
    },
    {
      "cell_type": "code",
      "metadata": {
        "colab": {
          "base_uri": "https://localhost:8080/",
          "height": 195
        },
        "id": "ARttm8GQtZ52",
        "outputId": "3627daba-9c7d-4b44-c6c1-141d1612c419"
      },
      "source": [
        "df.head()"
      ],
      "execution_count": 6,
      "outputs": [
        {
          "output_type": "execute_result",
          "data": {
            "text/html": [
              "<div>\n",
              "<style scoped>\n",
              "    .dataframe tbody tr th:only-of-type {\n",
              "        vertical-align: middle;\n",
              "    }\n",
              "\n",
              "    .dataframe tbody tr th {\n",
              "        vertical-align: top;\n",
              "    }\n",
              "\n",
              "    .dataframe thead th {\n",
              "        text-align: right;\n",
              "    }\n",
              "</style>\n",
              "<table border=\"1\" class=\"dataframe\">\n",
              "  <thead>\n",
              "    <tr style=\"text-align: right;\">\n",
              "      <th></th>\n",
              "      <th>Hours</th>\n",
              "      <th>Scores</th>\n",
              "    </tr>\n",
              "  </thead>\n",
              "  <tbody>\n",
              "    <tr>\n",
              "      <th>0</th>\n",
              "      <td>2.5</td>\n",
              "      <td>21</td>\n",
              "    </tr>\n",
              "    <tr>\n",
              "      <th>1</th>\n",
              "      <td>5.1</td>\n",
              "      <td>47</td>\n",
              "    </tr>\n",
              "    <tr>\n",
              "      <th>2</th>\n",
              "      <td>3.2</td>\n",
              "      <td>27</td>\n",
              "    </tr>\n",
              "    <tr>\n",
              "      <th>3</th>\n",
              "      <td>8.5</td>\n",
              "      <td>75</td>\n",
              "    </tr>\n",
              "    <tr>\n",
              "      <th>4</th>\n",
              "      <td>3.5</td>\n",
              "      <td>30</td>\n",
              "    </tr>\n",
              "  </tbody>\n",
              "</table>\n",
              "</div>"
            ],
            "text/plain": [
              "   Hours  Scores\n",
              "0    2.5      21\n",
              "1    5.1      47\n",
              "2    3.2      27\n",
              "3    8.5      75\n",
              "4    3.5      30"
            ]
          },
          "metadata": {
            "tags": []
          },
          "execution_count": 6
        }
      ]
    },
    {
      "cell_type": "code",
      "metadata": {
        "colab": {
          "base_uri": "https://localhost:8080/"
        },
        "id": "oqDRHFkfttED",
        "outputId": "738494d6-a47f-493f-97db-f0eb263a656b"
      },
      "source": [
        "df.shape"
      ],
      "execution_count": 9,
      "outputs": [
        {
          "output_type": "execute_result",
          "data": {
            "text/plain": [
              "(25, 2)"
            ]
          },
          "metadata": {
            "tags": []
          },
          "execution_count": 9
        }
      ]
    },
    {
      "cell_type": "code",
      "metadata": {
        "colab": {
          "base_uri": "https://localhost:8080/",
          "height": 295
        },
        "id": "qyzqfVIEt9wF",
        "outputId": "72bc634e-922c-482e-e749-734ba1038210"
      },
      "source": [
        "# Plotting the distribution of scores\r\n",
        "df.plot(x='Hours', y='Scores', style='o')  \r\n",
        "plt.title('Hours vs Percentage')  \r\n",
        "plt.xlabel('Hours Studied')  \r\n",
        "plt.ylabel('Percentage Score')  \r\n",
        "plt.show()"
      ],
      "execution_count": 11,
      "outputs": [
        {
          "output_type": "display_data",
          "data": {
            "image/png": "[encoded data removed]",
            "text/plain": [
              "<Figure size 432x288 with 1 Axes>"
            ]
          },
          "metadata": {
            "tags": [],
            "needs_background": "light"
          }
        }
      ]
    },
    {
      "cell_type": "markdown",
      "metadata": {
        "id": "WwuF9PlXx4gI"
      },
      "source": [
        "From the graph above, we can clearly see that there is a positive linear relation between the number of hours studied and percentage of score, making it ideal for the application of linear regression."
      ]
    },
    {
      "cell_type": "markdown",
      "metadata": {
        "id": "nWofMhiPyVxv"
      },
      "source": [
        "# Data Preparation"
      ]
    },
    {
      "cell_type": "code",
      "metadata": {
        "id": "RxrUO5f7yAUg"
      },
      "source": [
        "x1 = df.iloc[:, :-1].values  \r\n",
        "y1 = df.iloc[:, 1].values  \r\n",
        "x = x1.reshape(-1,1)\r\n",
        "y = y1.reshape(-1,1)"
      ],
      "execution_count": 13,
      "outputs": []
    },
    {
      "cell_type": "code",
      "metadata": {
        "id": "3S_Jz4QNzZoD"
      },
      "source": [
        "#Train and Test Set\r\n",
        "from sklearn.model_selection import train_test_split  \r\n",
        "x_train,x_test, y_train, y_test = train_test_split(x, y, test_size=0.3, random_state=0) #Train and test data divided into 70:30 ratio"
      ],
      "execution_count": 19,
      "outputs": []
    },
    {
      "cell_type": "markdown",
      "metadata": {
        "id": "10WRU2LO0ozF"
      },
      "source": [
        "##**Training the Dataset**"
      ]
    },
    {
      "cell_type": "code",
      "metadata": {
        "colab": {
          "base_uri": "https://localhost:8080/"
        },
        "id": "FfPKTjBJz4AY",
        "outputId": "25e7116a-51b5-4e04-b254-e42d9745e257"
      },
      "source": [
        "from sklearn.linear_model import LinearRegression  \r\n",
        "regressor = LinearRegression()  \r\n",
        "regressor.fit(x_train, y_train) \r\n",
        "\r\n",
        "print(\"Training complete.\")"
      ],
      "execution_count": 20,
      "outputs": [
        {
          "output_type": "stream",
          "text": [
            "Training complete.\n"
          ],
          "name": "stdout"
        }
      ]
    },
    {
      "cell_type": "code",
      "metadata": {
        "colab": {
          "base_uri": "https://localhost:8080/",
          "height": 265
        },
        "id": "AJD7lE9_0yNp",
        "outputId": "666d372a-10fb-4397-a137-90ca508dc404"
      },
      "source": [
        "# Plotting the regression line\r\n",
        "line = regressor.coef_*x+regressor.intercept_\r\n",
        "\r\n",
        "# Plotting for the test data\r\n",
        "plt.scatter(x, y)\r\n",
        "plt.plot(x, line);\r\n",
        "plt.show()"
      ],
      "execution_count": 21,
      "outputs": [
        {
          "output_type": "display_data",
          "data": {
            "image/png": "[encoded data removed]",
            "text/plain": [
              "<Figure size 432x288 with 1 Axes>"
            ]
          },
          "metadata": {
            "tags": [],
            "needs_background": "light"
          }
        }
      ]
    },
    {
      "cell_type": "markdown",
      "metadata": {
        "id": "q_KPC4BK1FWE"
      },
      "source": [
        "# Making Predictions"
      ]
    },
    {
      "cell_type": "code",
      "metadata": {
        "colab": {
          "base_uri": "https://localhost:8080/"
        },
        "id": "BH7R4k-50_zZ",
        "outputId": "fed72ec8-7726-4f95-f0b2-4cfc1cd10076"
      },
      "source": [
        "print(x_test) # Testing data - In Hours\r\n",
        "y_pred = regressor.predict(x_test) # Predicting the scores\r\n",
        "print(y_pred)"
      ],
      "execution_count": 28,
      "outputs": [
        {
          "output_type": "stream",
          "text": [
            "[[1.5]\n",
            " [3.2]\n",
            " [7.4]\n",
            " [2.5]\n",
            " [5.9]\n",
            " [3.8]\n",
            " [1.9]\n",
            " [7.8]]\n",
            "[[17.05366541]\n",
            " [33.69422878]\n",
            " [74.80620886]\n",
            " [26.8422321 ]\n",
            " [60.12335883]\n",
            " [39.56736879]\n",
            " [20.96909209]\n",
            " [78.72163554]]\n"
          ],
          "name": "stdout"
        }
      ]
    },
    {
      "cell_type": "markdown",
      "metadata": {
        "id": "22VHU7g72iLU"
      },
      "source": [
        "# Model Evaluation"
      ]
    },
    {
      "cell_type": "code",
      "metadata": {
        "colab": {
          "base_uri": "https://localhost:8080/"
        },
        "id": "vl0z3ER21X0q",
        "outputId": "53c9d400-e0cf-44c1-9d4a-cf35adc79e5e"
      },
      "source": [
        "from sklearn import metrics  \r\n",
        "print('Mean Absolute Error:', metrics.mean_absolute_error(y_test, y_pred)) "
      ],
      "execution_count": 30,
      "outputs": [
        {
          "output_type": "stream",
          "text": [
            "Mean Absolute Error: 4.419727808027651\n"
          ],
          "name": "stdout"
        }
      ]
    },
    {
      "cell_type": "markdown",
      "metadata": {
        "id": "Ih7yN2ob3HbC"
      },
      "source": [
        "# **Prediction**"
      ]
    },
    {
      "cell_type": "code",
      "metadata": {
        "colab": {
          "base_uri": "https://localhost:8080/"
        },
        "id": "EV1bE9IQ2Uv3",
        "outputId": "a0ac01f2-ddc6-4ae1-9b50-6fb4c738281d"
      },
      "source": [
        "hours = np.array(9.25)\r\n",
        "hours=hours.reshape(-1,1)\r\n",
        "pred = regressor.predict(hours)\r\n",
        "print(\"No of Hours = {}\".format(hours))\r\n",
        "print(\"Predicted Score = {}\".format(pred[0]))"
      ],
      "execution_count": 31,
      "outputs": [
        {
          "output_type": "stream",
          "text": [
            "No of Hours = [[9.25]]\n",
            "Predicted Score = [92.91505723]\n"
          ],
          "name": "stdout"
        }
      ]
    }
  ]
}